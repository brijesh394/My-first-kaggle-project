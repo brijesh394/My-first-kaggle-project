{
 "cells": [
  {
   "cell_type": "code",
   "execution_count": 1,
   "id": "85365089",
   "metadata": {
    "_cell_guid": "b1076dfc-b9ad-4769-8c92-a6c4dae69d19",
    "_uuid": "8f2839f25d086af736a60e9eeb907d3b93b6e0e5",
    "execution": {
     "iopub.execute_input": "2023-03-14T03:50:04.012757Z",
     "iopub.status.busy": "2023-03-14T03:50:04.012179Z",
     "iopub.status.idle": "2023-03-14T03:50:04.030178Z",
     "shell.execute_reply": "2023-03-14T03:50:04.028988Z"
    },
    "papermill": {
     "duration": 0.039969,
     "end_time": "2023-03-14T03:50:04.033447",
     "exception": false,
     "start_time": "2023-03-14T03:50:03.993478",
     "status": "completed"
    },
    "tags": []
   },
   "outputs": [
    {
     "name": "stdout",
     "output_type": "stream",
     "text": [
      "/kaggle/input/titanic/train.csv\n",
      "/kaggle/input/titanic/test.csv\n",
      "/kaggle/input/titanic/gender_submission.csv\n"
     ]
    }
   ],
   "source": [
    "# This Python 3 environment comes with many helpful analytics libraries installed\n",
    "# It is defined by the kaggle/python Docker image: https://github.com/kaggle/docker-python\n",
    "# For example, here's several helpful packages to load\n",
    "\n",
    "import numpy as np # linear algebra\n",
    "import pandas as pd # data processing, CSV file I/O (e.g. pd.read_csv)\n",
    "\n",
    "# Input data files are available in the read-only \"../input/\" directory\n",
    "# For example, running this (by clicking run or pressing Shift+Enter) will list all files under the input directory\n",
    "\n",
    "import os\n",
    "for dirname, _, filenames in os.walk('/kaggle/input'):\n",
    "    for filename in filenames:\n",
    "        print(os.path.join(dirname, filename))\n",
    "\n",
    "# You can write up to 20GB to the current directory (/kaggle/working/) that gets preserved as output when you create a version using \"Save & Run All\" \n",
    "# You can also write temporary files to /kaggle/temp/, but they won't be saved outside of the current session"
   ]
  },
  {
   "cell_type": "markdown",
   "id": "832fa8ca",
   "metadata": {
    "papermill": {
     "duration": 0.010394,
     "end_time": "2023-03-14T03:50:04.054731",
     "exception": false,
     "start_time": "2023-03-14T03:50:04.044337",
     "status": "completed"
    },
    "tags": []
   },
   "source": [
    "# Import the libraries."
   ]
  },
  {
   "cell_type": "code",
   "execution_count": 2,
   "id": "a5226c47",
   "metadata": {
    "execution": {
     "iopub.execute_input": "2023-03-14T03:50:04.078256Z",
     "iopub.status.busy": "2023-03-14T03:50:04.077354Z",
     "iopub.status.idle": "2023-03-14T03:50:05.705255Z",
     "shell.execute_reply": "2023-03-14T03:50:05.704029Z"
    },
    "papermill": {
     "duration": 1.643069,
     "end_time": "2023-03-14T03:50:05.708397",
     "exception": false,
     "start_time": "2023-03-14T03:50:04.065328",
     "status": "completed"
    },
    "tags": []
   },
   "outputs": [],
   "source": [
    "import numpy as np \n",
    "import pandas as pd\n",
    "import matplotlib.pyplot as plt # data visualization\n",
    "import seaborn as sns # data visualization\n",
    "from scipy.stats.mstats import winsorize\n",
    "from sklearn.preprocessing import LabelEncoder\n",
    "from sklearn.impute import SimpleImputer\n",
    "from sklearn.compose import ColumnTransformer\n",
    "from sklearn.pipeline import Pipeline\n",
    "from sklearn.linear_model import LogisticRegression\n",
    "from sklearn.model_selection import train_test_split\n",
    "from sklearn.metrics import accuracy_score"
   ]
  },
  {
   "cell_type": "code",
   "execution_count": 3,
   "id": "0f10daaf",
   "metadata": {
    "execution": {
     "iopub.execute_input": "2023-03-14T03:50:05.733968Z",
     "iopub.status.busy": "2023-03-14T03:50:05.733139Z",
     "iopub.status.idle": "2023-03-14T03:50:05.762213Z",
     "shell.execute_reply": "2023-03-14T03:50:05.760890Z"
    },
    "papermill": {
     "duration": 0.0461,
     "end_time": "2023-03-14T03:50:05.765198",
     "exception": false,
     "start_time": "2023-03-14T03:50:05.719098",
     "status": "completed"
    },
    "tags": []
   },
   "outputs": [],
   "source": [
    "# read data\n",
    "train_data= pd.read_csv('/kaggle/input/titanic/train.csv')\n",
    "test_data = pd.read_csv('/kaggle/input/titanic/test.csv')"
   ]
  },
  {
   "cell_type": "code",
   "execution_count": 4,
   "id": "4f7ce33a",
   "metadata": {
    "execution": {
     "iopub.execute_input": "2023-03-14T03:50:05.788966Z",
     "iopub.status.busy": "2023-03-14T03:50:05.788230Z",
     "iopub.status.idle": "2023-03-14T03:50:05.793740Z",
     "shell.execute_reply": "2023-03-14T03:50:05.792868Z"
    },
    "papermill": {
     "duration": 0.020235,
     "end_time": "2023-03-14T03:50:05.796117",
     "exception": false,
     "start_time": "2023-03-14T03:50:05.775882",
     "status": "completed"
    },
    "tags": []
   },
   "outputs": [],
   "source": [
    "# make copy of data\n",
    "train = train_data.copy()\n",
    "test= test_data.copy()"
   ]
  },
  {
   "cell_type": "code",
   "execution_count": 5,
   "id": "fba9ddc0",
   "metadata": {
    "execution": {
     "iopub.execute_input": "2023-03-14T03:50:05.819843Z",
     "iopub.status.busy": "2023-03-14T03:50:05.819124Z",
     "iopub.status.idle": "2023-03-14T03:50:05.851744Z",
     "shell.execute_reply": "2023-03-14T03:50:05.850136Z"
    },
    "papermill": {
     "duration": 0.047691,
     "end_time": "2023-03-14T03:50:05.854441",
     "exception": false,
     "start_time": "2023-03-14T03:50:05.806750",
     "status": "completed"
    },
    "tags": []
   },
   "outputs": [
    {
     "data": {
      "text/html": [
       "<div>\n",
       "<style scoped>\n",
       "    .dataframe tbody tr th:only-of-type {\n",
       "        vertical-align: middle;\n",
       "    }\n",
       "\n",
       "    .dataframe tbody tr th {\n",
       "        vertical-align: top;\n",
       "    }\n",
       "\n",
       "    .dataframe thead th {\n",
       "        text-align: right;\n",
       "    }\n",
       "</style>\n",
       "<table border=\"1\" class=\"dataframe\">\n",
       "  <thead>\n",
       "    <tr style=\"text-align: right;\">\n",
       "      <th></th>\n",
       "      <th>PassengerId</th>\n",
       "      <th>Survived</th>\n",
       "      <th>Pclass</th>\n",
       "      <th>Name</th>\n",
       "      <th>Sex</th>\n",
       "      <th>Age</th>\n",
       "      <th>SibSp</th>\n",
       "      <th>Parch</th>\n",
       "      <th>Ticket</th>\n",
       "      <th>Fare</th>\n",
       "      <th>Cabin</th>\n",
       "      <th>Embarked</th>\n",
       "    </tr>\n",
       "  </thead>\n",
       "  <tbody>\n",
       "    <tr>\n",
       "      <th>0</th>\n",
       "      <td>1</td>\n",
       "      <td>0</td>\n",
       "      <td>3</td>\n",
       "      <td>Braund, Mr. Owen Harris</td>\n",
       "      <td>male</td>\n",
       "      <td>22.0</td>\n",
       "      <td>1</td>\n",
       "      <td>0</td>\n",
       "      <td>A/5 21171</td>\n",
       "      <td>7.2500</td>\n",
       "      <td>NaN</td>\n",
       "      <td>S</td>\n",
       "    </tr>\n",
       "    <tr>\n",
       "      <th>1</th>\n",
       "      <td>2</td>\n",
       "      <td>1</td>\n",
       "      <td>1</td>\n",
       "      <td>Cumings, Mrs. John Bradley (Florence Briggs Th...</td>\n",
       "      <td>female</td>\n",
       "      <td>38.0</td>\n",
       "      <td>1</td>\n",
       "      <td>0</td>\n",
       "      <td>PC 17599</td>\n",
       "      <td>71.2833</td>\n",
       "      <td>C85</td>\n",
       "      <td>C</td>\n",
       "    </tr>\n",
       "    <tr>\n",
       "      <th>2</th>\n",
       "      <td>3</td>\n",
       "      <td>1</td>\n",
       "      <td>3</td>\n",
       "      <td>Heikkinen, Miss. Laina</td>\n",
       "      <td>female</td>\n",
       "      <td>26.0</td>\n",
       "      <td>0</td>\n",
       "      <td>0</td>\n",
       "      <td>STON/O2. 3101282</td>\n",
       "      <td>7.9250</td>\n",
       "      <td>NaN</td>\n",
       "      <td>S</td>\n",
       "    </tr>\n",
       "    <tr>\n",
       "      <th>3</th>\n",
       "      <td>4</td>\n",
       "      <td>1</td>\n",
       "      <td>1</td>\n",
       "      <td>Futrelle, Mrs. Jacques Heath (Lily May Peel)</td>\n",
       "      <td>female</td>\n",
       "      <td>35.0</td>\n",
       "      <td>1</td>\n",
       "      <td>0</td>\n",
       "      <td>113803</td>\n",
       "      <td>53.1000</td>\n",
       "      <td>C123</td>\n",
       "      <td>S</td>\n",
       "    </tr>\n",
       "    <tr>\n",
       "      <th>4</th>\n",
       "      <td>5</td>\n",
       "      <td>0</td>\n",
       "      <td>3</td>\n",
       "      <td>Allen, Mr. William Henry</td>\n",
       "      <td>male</td>\n",
       "      <td>35.0</td>\n",
       "      <td>0</td>\n",
       "      <td>0</td>\n",
       "      <td>373450</td>\n",
       "      <td>8.0500</td>\n",
       "      <td>NaN</td>\n",
       "      <td>S</td>\n",
       "    </tr>\n",
       "  </tbody>\n",
       "</table>\n",
       "</div>"
      ],
      "text/plain": [
       "   PassengerId  Survived  Pclass  \\\n",
       "0            1         0       3   \n",
       "1            2         1       1   \n",
       "2            3         1       3   \n",
       "3            4         1       1   \n",
       "4            5         0       3   \n",
       "\n",
       "                                                Name     Sex   Age  SibSp  \\\n",
       "0                            Braund, Mr. Owen Harris    male  22.0      1   \n",
       "1  Cumings, Mrs. John Bradley (Florence Briggs Th...  female  38.0      1   \n",
       "2                             Heikkinen, Miss. Laina  female  26.0      0   \n",
       "3       Futrelle, Mrs. Jacques Heath (Lily May Peel)  female  35.0      1   \n",
       "4                           Allen, Mr. William Henry    male  35.0      0   \n",
       "\n",
       "   Parch            Ticket     Fare Cabin Embarked  \n",
       "0      0         A/5 21171   7.2500   NaN        S  \n",
       "1      0          PC 17599  71.2833   C85        C  \n",
       "2      0  STON/O2. 3101282   7.9250   NaN        S  \n",
       "3      0            113803  53.1000  C123        S  \n",
       "4      0            373450   8.0500   NaN        S  "
      ]
     },
     "execution_count": 5,
     "metadata": {},
     "output_type": "execute_result"
    }
   ],
   "source": [
    "# check first five rows of the train data\n",
    "train.head()"
   ]
  },
  {
   "cell_type": "code",
   "execution_count": 6,
   "id": "a57f1023",
   "metadata": {
    "execution": {
     "iopub.execute_input": "2023-03-14T03:50:05.878269Z",
     "iopub.status.busy": "2023-03-14T03:50:05.877863Z",
     "iopub.status.idle": "2023-03-14T03:50:05.893735Z",
     "shell.execute_reply": "2023-03-14T03:50:05.892553Z"
    },
    "papermill": {
     "duration": 0.031023,
     "end_time": "2023-03-14T03:50:05.896392",
     "exception": false,
     "start_time": "2023-03-14T03:50:05.865369",
     "status": "completed"
    },
    "tags": []
   },
   "outputs": [
    {
     "data": {
      "text/html": [
       "<div>\n",
       "<style scoped>\n",
       "    .dataframe tbody tr th:only-of-type {\n",
       "        vertical-align: middle;\n",
       "    }\n",
       "\n",
       "    .dataframe tbody tr th {\n",
       "        vertical-align: top;\n",
       "    }\n",
       "\n",
       "    .dataframe thead th {\n",
       "        text-align: right;\n",
       "    }\n",
       "</style>\n",
       "<table border=\"1\" class=\"dataframe\">\n",
       "  <thead>\n",
       "    <tr style=\"text-align: right;\">\n",
       "      <th></th>\n",
       "      <th>PassengerId</th>\n",
       "      <th>Pclass</th>\n",
       "      <th>Name</th>\n",
       "      <th>Sex</th>\n",
       "      <th>Age</th>\n",
       "      <th>SibSp</th>\n",
       "      <th>Parch</th>\n",
       "      <th>Ticket</th>\n",
       "      <th>Fare</th>\n",
       "      <th>Cabin</th>\n",
       "      <th>Embarked</th>\n",
       "    </tr>\n",
       "  </thead>\n",
       "  <tbody>\n",
       "    <tr>\n",
       "      <th>0</th>\n",
       "      <td>892</td>\n",
       "      <td>3</td>\n",
       "      <td>Kelly, Mr. James</td>\n",
       "      <td>male</td>\n",
       "      <td>34.5</td>\n",
       "      <td>0</td>\n",
       "      <td>0</td>\n",
       "      <td>330911</td>\n",
       "      <td>7.8292</td>\n",
       "      <td>NaN</td>\n",
       "      <td>Q</td>\n",
       "    </tr>\n",
       "    <tr>\n",
       "      <th>1</th>\n",
       "      <td>893</td>\n",
       "      <td>3</td>\n",
       "      <td>Wilkes, Mrs. James (Ellen Needs)</td>\n",
       "      <td>female</td>\n",
       "      <td>47.0</td>\n",
       "      <td>1</td>\n",
       "      <td>0</td>\n",
       "      <td>363272</td>\n",
       "      <td>7.0000</td>\n",
       "      <td>NaN</td>\n",
       "      <td>S</td>\n",
       "    </tr>\n",
       "    <tr>\n",
       "      <th>2</th>\n",
       "      <td>894</td>\n",
       "      <td>2</td>\n",
       "      <td>Myles, Mr. Thomas Francis</td>\n",
       "      <td>male</td>\n",
       "      <td>62.0</td>\n",
       "      <td>0</td>\n",
       "      <td>0</td>\n",
       "      <td>240276</td>\n",
       "      <td>9.6875</td>\n",
       "      <td>NaN</td>\n",
       "      <td>Q</td>\n",
       "    </tr>\n",
       "    <tr>\n",
       "      <th>3</th>\n",
       "      <td>895</td>\n",
       "      <td>3</td>\n",
       "      <td>Wirz, Mr. Albert</td>\n",
       "      <td>male</td>\n",
       "      <td>27.0</td>\n",
       "      <td>0</td>\n",
       "      <td>0</td>\n",
       "      <td>315154</td>\n",
       "      <td>8.6625</td>\n",
       "      <td>NaN</td>\n",
       "      <td>S</td>\n",
       "    </tr>\n",
       "    <tr>\n",
       "      <th>4</th>\n",
       "      <td>896</td>\n",
       "      <td>3</td>\n",
       "      <td>Hirvonen, Mrs. Alexander (Helga E Lindqvist)</td>\n",
       "      <td>female</td>\n",
       "      <td>22.0</td>\n",
       "      <td>1</td>\n",
       "      <td>1</td>\n",
       "      <td>3101298</td>\n",
       "      <td>12.2875</td>\n",
       "      <td>NaN</td>\n",
       "      <td>S</td>\n",
       "    </tr>\n",
       "  </tbody>\n",
       "</table>\n",
       "</div>"
      ],
      "text/plain": [
       "   PassengerId  Pclass                                          Name     Sex  \\\n",
       "0          892       3                              Kelly, Mr. James    male   \n",
       "1          893       3              Wilkes, Mrs. James (Ellen Needs)  female   \n",
       "2          894       2                     Myles, Mr. Thomas Francis    male   \n",
       "3          895       3                              Wirz, Mr. Albert    male   \n",
       "4          896       3  Hirvonen, Mrs. Alexander (Helga E Lindqvist)  female   \n",
       "\n",
       "    Age  SibSp  Parch   Ticket     Fare Cabin Embarked  \n",
       "0  34.5      0      0   330911   7.8292   NaN        Q  \n",
       "1  47.0      1      0   363272   7.0000   NaN        S  \n",
       "2  62.0      0      0   240276   9.6875   NaN        Q  \n",
       "3  27.0      0      0   315154   8.6625   NaN        S  \n",
       "4  22.0      1      1  3101298  12.2875   NaN        S  "
      ]
     },
     "execution_count": 6,
     "metadata": {},
     "output_type": "execute_result"
    }
   ],
   "source": [
    "# check first five rows of the test data\n",
    "test.head()"
   ]
  },
  {
   "cell_type": "code",
   "execution_count": 7,
   "id": "f502eaec",
   "metadata": {
    "execution": {
     "iopub.execute_input": "2023-03-14T03:50:05.920594Z",
     "iopub.status.busy": "2023-03-14T03:50:05.920214Z",
     "iopub.status.idle": "2023-03-14T03:50:05.948058Z",
     "shell.execute_reply": "2023-03-14T03:50:05.946572Z"
    },
    "papermill": {
     "duration": 0.043494,
     "end_time": "2023-03-14T03:50:05.950929",
     "exception": false,
     "start_time": "2023-03-14T03:50:05.907435",
     "status": "completed"
    },
    "tags": []
   },
   "outputs": [
    {
     "name": "stdout",
     "output_type": "stream",
     "text": [
      "<class 'pandas.core.frame.DataFrame'>\n",
      "RangeIndex: 891 entries, 0 to 890\n",
      "Data columns (total 12 columns):\n",
      " #   Column       Non-Null Count  Dtype  \n",
      "---  ------       --------------  -----  \n",
      " 0   PassengerId  891 non-null    int64  \n",
      " 1   Survived     891 non-null    int64  \n",
      " 2   Pclass       891 non-null    int64  \n",
      " 3   Name         891 non-null    object \n",
      " 4   Sex          891 non-null    object \n",
      " 5   Age          714 non-null    float64\n",
      " 6   SibSp        891 non-null    int64  \n",
      " 7   Parch        891 non-null    int64  \n",
      " 8   Ticket       891 non-null    object \n",
      " 9   Fare         891 non-null    float64\n",
      " 10  Cabin        204 non-null    object \n",
      " 11  Embarked     889 non-null    object \n",
      "dtypes: float64(2), int64(5), object(5)\n",
      "memory usage: 83.7+ KB\n"
     ]
    }
   ],
   "source": [
    "# check the details of the train data columns \n",
    "train.info()"
   ]
  },
  {
   "cell_type": "code",
   "execution_count": 8,
   "id": "977a8e93",
   "metadata": {
    "execution": {
     "iopub.execute_input": "2023-03-14T03:50:05.976317Z",
     "iopub.status.busy": "2023-03-14T03:50:05.975891Z",
     "iopub.status.idle": "2023-03-14T03:50:05.990071Z",
     "shell.execute_reply": "2023-03-14T03:50:05.988587Z"
    },
    "papermill": {
     "duration": 0.031615,
     "end_time": "2023-03-14T03:50:05.993743",
     "exception": false,
     "start_time": "2023-03-14T03:50:05.962128",
     "status": "completed"
    },
    "tags": []
   },
   "outputs": [
    {
     "name": "stdout",
     "output_type": "stream",
     "text": [
      "<class 'pandas.core.frame.DataFrame'>\n",
      "RangeIndex: 418 entries, 0 to 417\n",
      "Data columns (total 11 columns):\n",
      " #   Column       Non-Null Count  Dtype  \n",
      "---  ------       --------------  -----  \n",
      " 0   PassengerId  418 non-null    int64  \n",
      " 1   Pclass       418 non-null    int64  \n",
      " 2   Name         418 non-null    object \n",
      " 3   Sex          418 non-null    object \n",
      " 4   Age          332 non-null    float64\n",
      " 5   SibSp        418 non-null    int64  \n",
      " 6   Parch        418 non-null    int64  \n",
      " 7   Ticket       418 non-null    object \n",
      " 8   Fare         417 non-null    float64\n",
      " 9   Cabin        91 non-null     object \n",
      " 10  Embarked     418 non-null    object \n",
      "dtypes: float64(2), int64(4), object(5)\n",
      "memory usage: 36.0+ KB\n"
     ]
    }
   ],
   "source": [
    "# # check the details of the test data columns \n",
    "test.info()"
   ]
  },
  {
   "cell_type": "code",
   "execution_count": 9,
   "id": "17583ec6",
   "metadata": {
    "execution": {
     "iopub.execute_input": "2023-03-14T03:50:06.019952Z",
     "iopub.status.busy": "2023-03-14T03:50:06.019493Z",
     "iopub.status.idle": "2023-03-14T03:50:06.027379Z",
     "shell.execute_reply": "2023-03-14T03:50:06.026170Z"
    },
    "papermill": {
     "duration": 0.023602,
     "end_time": "2023-03-14T03:50:06.030091",
     "exception": false,
     "start_time": "2023-03-14T03:50:06.006489",
     "status": "completed"
    },
    "tags": []
   },
   "outputs": [
    {
     "data": {
      "text/plain": [
       "(891, 12)"
      ]
     },
     "execution_count": 9,
     "metadata": {},
     "output_type": "execute_result"
    }
   ],
   "source": [
    "train.shape"
   ]
  },
  {
   "cell_type": "code",
   "execution_count": 10,
   "id": "3f8514fe",
   "metadata": {
    "execution": {
     "iopub.execute_input": "2023-03-14T03:50:06.055268Z",
     "iopub.status.busy": "2023-03-14T03:50:06.054517Z",
     "iopub.status.idle": "2023-03-14T03:50:06.061922Z",
     "shell.execute_reply": "2023-03-14T03:50:06.060700Z"
    },
    "papermill": {
     "duration": 0.022771,
     "end_time": "2023-03-14T03:50:06.064383",
     "exception": false,
     "start_time": "2023-03-14T03:50:06.041612",
     "status": "completed"
    },
    "tags": []
   },
   "outputs": [
    {
     "data": {
      "text/plain": [
       "(418, 11)"
      ]
     },
     "execution_count": 10,
     "metadata": {},
     "output_type": "execute_result"
    }
   ],
   "source": [
    "test.shape"
   ]
  },
  {
   "cell_type": "code",
   "execution_count": 11,
   "id": "2e454d83",
   "metadata": {
    "execution": {
     "iopub.execute_input": "2023-03-14T03:50:06.089656Z",
     "iopub.status.busy": "2023-03-14T03:50:06.088812Z",
     "iopub.status.idle": "2023-03-14T03:50:06.100109Z",
     "shell.execute_reply": "2023-03-14T03:50:06.098780Z"
    },
    "papermill": {
     "duration": 0.026531,
     "end_time": "2023-03-14T03:50:06.102414",
     "exception": false,
     "start_time": "2023-03-14T03:50:06.075883",
     "status": "completed"
    },
    "tags": []
   },
   "outputs": [
    {
     "data": {
      "text/plain": [
       "PassengerId      0\n",
       "Survived         0\n",
       "Pclass           0\n",
       "Name             0\n",
       "Sex              0\n",
       "Age            177\n",
       "SibSp            0\n",
       "Parch            0\n",
       "Ticket           0\n",
       "Fare             0\n",
       "Cabin          687\n",
       "Embarked         2\n",
       "dtype: int64"
      ]
     },
     "execution_count": 11,
     "metadata": {},
     "output_type": "execute_result"
    }
   ],
   "source": [
    "train.isnull().sum()"
   ]
  },
  {
   "cell_type": "code",
   "execution_count": 12,
   "id": "62d7dfe1",
   "metadata": {
    "execution": {
     "iopub.execute_input": "2023-03-14T03:50:06.128426Z",
     "iopub.status.busy": "2023-03-14T03:50:06.127235Z",
     "iopub.status.idle": "2023-03-14T03:50:06.138734Z",
     "shell.execute_reply": "2023-03-14T03:50:06.137749Z"
    },
    "papermill": {
     "duration": 0.027058,
     "end_time": "2023-03-14T03:50:06.141185",
     "exception": false,
     "start_time": "2023-03-14T03:50:06.114127",
     "status": "completed"
    },
    "tags": []
   },
   "outputs": [
    {
     "data": {
      "text/plain": [
       "PassengerId      0\n",
       "Pclass           0\n",
       "Name             0\n",
       "Sex              0\n",
       "Age             86\n",
       "SibSp            0\n",
       "Parch            0\n",
       "Ticket           0\n",
       "Fare             1\n",
       "Cabin          327\n",
       "Embarked         0\n",
       "dtype: int64"
      ]
     },
     "execution_count": 12,
     "metadata": {},
     "output_type": "execute_result"
    }
   ],
   "source": [
    "test.isnull().sum()"
   ]
  },
  {
   "cell_type": "markdown",
   "id": "bd948e1c",
   "metadata": {
    "papermill": {
     "duration": 0.011513,
     "end_time": "2023-03-14T03:50:06.164874",
     "exception": false,
     "start_time": "2023-03-14T03:50:06.153361",
     "status": "completed"
    },
    "tags": []
   },
   "source": [
    "# Exploratory data analysis"
   ]
  },
  {
   "cell_type": "code",
   "execution_count": 13,
   "id": "1a2f91e2",
   "metadata": {
    "execution": {
     "iopub.execute_input": "2023-03-14T03:50:06.191330Z",
     "iopub.status.busy": "2023-03-14T03:50:06.190182Z",
     "iopub.status.idle": "2023-03-14T03:50:06.237511Z",
     "shell.execute_reply": "2023-03-14T03:50:06.236189Z"
    },
    "papermill": {
     "duration": 0.063391,
     "end_time": "2023-03-14T03:50:06.240038",
     "exception": false,
     "start_time": "2023-03-14T03:50:06.176647",
     "status": "completed"
    },
    "tags": []
   },
   "outputs": [
    {
     "data": {
      "text/html": [
       "<div>\n",
       "<style scoped>\n",
       "    .dataframe tbody tr th:only-of-type {\n",
       "        vertical-align: middle;\n",
       "    }\n",
       "\n",
       "    .dataframe tbody tr th {\n",
       "        vertical-align: top;\n",
       "    }\n",
       "\n",
       "    .dataframe thead th {\n",
       "        text-align: right;\n",
       "    }\n",
       "</style>\n",
       "<table border=\"1\" class=\"dataframe\">\n",
       "  <thead>\n",
       "    <tr style=\"text-align: right;\">\n",
       "      <th></th>\n",
       "      <th>count</th>\n",
       "      <th>unique</th>\n",
       "      <th>top</th>\n",
       "      <th>freq</th>\n",
       "      <th>mean</th>\n",
       "      <th>std</th>\n",
       "      <th>min</th>\n",
       "      <th>25%</th>\n",
       "      <th>50%</th>\n",
       "      <th>75%</th>\n",
       "      <th>max</th>\n",
       "    </tr>\n",
       "  </thead>\n",
       "  <tbody>\n",
       "    <tr>\n",
       "      <th>PassengerId</th>\n",
       "      <td>891.0</td>\n",
       "      <td>NaN</td>\n",
       "      <td>NaN</td>\n",
       "      <td>NaN</td>\n",
       "      <td>446.0</td>\n",
       "      <td>257.353842</td>\n",
       "      <td>1.0</td>\n",
       "      <td>223.5</td>\n",
       "      <td>446.0</td>\n",
       "      <td>668.5</td>\n",
       "      <td>891.0</td>\n",
       "    </tr>\n",
       "    <tr>\n",
       "      <th>Survived</th>\n",
       "      <td>891.0</td>\n",
       "      <td>NaN</td>\n",
       "      <td>NaN</td>\n",
       "      <td>NaN</td>\n",
       "      <td>0.383838</td>\n",
       "      <td>0.486592</td>\n",
       "      <td>0.0</td>\n",
       "      <td>0.0</td>\n",
       "      <td>0.0</td>\n",
       "      <td>1.0</td>\n",
       "      <td>1.0</td>\n",
       "    </tr>\n",
       "    <tr>\n",
       "      <th>Pclass</th>\n",
       "      <td>891.0</td>\n",
       "      <td>NaN</td>\n",
       "      <td>NaN</td>\n",
       "      <td>NaN</td>\n",
       "      <td>2.308642</td>\n",
       "      <td>0.836071</td>\n",
       "      <td>1.0</td>\n",
       "      <td>2.0</td>\n",
       "      <td>3.0</td>\n",
       "      <td>3.0</td>\n",
       "      <td>3.0</td>\n",
       "    </tr>\n",
       "    <tr>\n",
       "      <th>Name</th>\n",
       "      <td>891</td>\n",
       "      <td>891</td>\n",
       "      <td>Braund, Mr. Owen Harris</td>\n",
       "      <td>1</td>\n",
       "      <td>NaN</td>\n",
       "      <td>NaN</td>\n",
       "      <td>NaN</td>\n",
       "      <td>NaN</td>\n",
       "      <td>NaN</td>\n",
       "      <td>NaN</td>\n",
       "      <td>NaN</td>\n",
       "    </tr>\n",
       "    <tr>\n",
       "      <th>Sex</th>\n",
       "      <td>891</td>\n",
       "      <td>2</td>\n",
       "      <td>male</td>\n",
       "      <td>577</td>\n",
       "      <td>NaN</td>\n",
       "      <td>NaN</td>\n",
       "      <td>NaN</td>\n",
       "      <td>NaN</td>\n",
       "      <td>NaN</td>\n",
       "      <td>NaN</td>\n",
       "      <td>NaN</td>\n",
       "    </tr>\n",
       "    <tr>\n",
       "      <th>Age</th>\n",
       "      <td>714.0</td>\n",
       "      <td>NaN</td>\n",
       "      <td>NaN</td>\n",
       "      <td>NaN</td>\n",
       "      <td>29.699118</td>\n",
       "      <td>14.526497</td>\n",
       "      <td>0.42</td>\n",
       "      <td>20.125</td>\n",
       "      <td>28.0</td>\n",
       "      <td>38.0</td>\n",
       "      <td>80.0</td>\n",
       "    </tr>\n",
       "    <tr>\n",
       "      <th>SibSp</th>\n",
       "      <td>891.0</td>\n",
       "      <td>NaN</td>\n",
       "      <td>NaN</td>\n",
       "      <td>NaN</td>\n",
       "      <td>0.523008</td>\n",
       "      <td>1.102743</td>\n",
       "      <td>0.0</td>\n",
       "      <td>0.0</td>\n",
       "      <td>0.0</td>\n",
       "      <td>1.0</td>\n",
       "      <td>8.0</td>\n",
       "    </tr>\n",
       "    <tr>\n",
       "      <th>Parch</th>\n",
       "      <td>891.0</td>\n",
       "      <td>NaN</td>\n",
       "      <td>NaN</td>\n",
       "      <td>NaN</td>\n",
       "      <td>0.381594</td>\n",
       "      <td>0.806057</td>\n",
       "      <td>0.0</td>\n",
       "      <td>0.0</td>\n",
       "      <td>0.0</td>\n",
       "      <td>0.0</td>\n",
       "      <td>6.0</td>\n",
       "    </tr>\n",
       "    <tr>\n",
       "      <th>Ticket</th>\n",
       "      <td>891</td>\n",
       "      <td>681</td>\n",
       "      <td>347082</td>\n",
       "      <td>7</td>\n",
       "      <td>NaN</td>\n",
       "      <td>NaN</td>\n",
       "      <td>NaN</td>\n",
       "      <td>NaN</td>\n",
       "      <td>NaN</td>\n",
       "      <td>NaN</td>\n",
       "      <td>NaN</td>\n",
       "    </tr>\n",
       "    <tr>\n",
       "      <th>Fare</th>\n",
       "      <td>891.0</td>\n",
       "      <td>NaN</td>\n",
       "      <td>NaN</td>\n",
       "      <td>NaN</td>\n",
       "      <td>32.204208</td>\n",
       "      <td>49.693429</td>\n",
       "      <td>0.0</td>\n",
       "      <td>7.9104</td>\n",
       "      <td>14.4542</td>\n",
       "      <td>31.0</td>\n",
       "      <td>512.3292</td>\n",
       "    </tr>\n",
       "    <tr>\n",
       "      <th>Cabin</th>\n",
       "      <td>204</td>\n",
       "      <td>147</td>\n",
       "      <td>B96 B98</td>\n",
       "      <td>4</td>\n",
       "      <td>NaN</td>\n",
       "      <td>NaN</td>\n",
       "      <td>NaN</td>\n",
       "      <td>NaN</td>\n",
       "      <td>NaN</td>\n",
       "      <td>NaN</td>\n",
       "      <td>NaN</td>\n",
       "    </tr>\n",
       "    <tr>\n",
       "      <th>Embarked</th>\n",
       "      <td>889</td>\n",
       "      <td>3</td>\n",
       "      <td>S</td>\n",
       "      <td>644</td>\n",
       "      <td>NaN</td>\n",
       "      <td>NaN</td>\n",
       "      <td>NaN</td>\n",
       "      <td>NaN</td>\n",
       "      <td>NaN</td>\n",
       "      <td>NaN</td>\n",
       "      <td>NaN</td>\n",
       "    </tr>\n",
       "  </tbody>\n",
       "</table>\n",
       "</div>"
      ],
      "text/plain": [
       "             count unique                      top freq       mean  \\\n",
       "PassengerId  891.0    NaN                      NaN  NaN      446.0   \n",
       "Survived     891.0    NaN                      NaN  NaN   0.383838   \n",
       "Pclass       891.0    NaN                      NaN  NaN   2.308642   \n",
       "Name           891    891  Braund, Mr. Owen Harris    1        NaN   \n",
       "Sex            891      2                     male  577        NaN   \n",
       "Age          714.0    NaN                      NaN  NaN  29.699118   \n",
       "SibSp        891.0    NaN                      NaN  NaN   0.523008   \n",
       "Parch        891.0    NaN                      NaN  NaN   0.381594   \n",
       "Ticket         891    681                   347082    7        NaN   \n",
       "Fare         891.0    NaN                      NaN  NaN  32.204208   \n",
       "Cabin          204    147                  B96 B98    4        NaN   \n",
       "Embarked       889      3                        S  644        NaN   \n",
       "\n",
       "                    std   min     25%      50%    75%       max  \n",
       "PassengerId  257.353842   1.0   223.5    446.0  668.5     891.0  \n",
       "Survived       0.486592   0.0     0.0      0.0    1.0       1.0  \n",
       "Pclass         0.836071   1.0     2.0      3.0    3.0       3.0  \n",
       "Name                NaN   NaN     NaN      NaN    NaN       NaN  \n",
       "Sex                 NaN   NaN     NaN      NaN    NaN       NaN  \n",
       "Age           14.526497  0.42  20.125     28.0   38.0      80.0  \n",
       "SibSp          1.102743   0.0     0.0      0.0    1.0       8.0  \n",
       "Parch          0.806057   0.0     0.0      0.0    0.0       6.0  \n",
       "Ticket              NaN   NaN     NaN      NaN    NaN       NaN  \n",
       "Fare          49.693429   0.0  7.9104  14.4542   31.0  512.3292  \n",
       "Cabin               NaN   NaN     NaN      NaN    NaN       NaN  \n",
       "Embarked            NaN   NaN     NaN      NaN    NaN       NaN  "
      ]
     },
     "execution_count": 13,
     "metadata": {},
     "output_type": "execute_result"
    }
   ],
   "source": [
    "#  check the statistical summary of the train data\n",
    "train.describe(include='all').T"
   ]
  },
  {
   "cell_type": "code",
   "execution_count": 14,
   "id": "a85af78d",
   "metadata": {
    "execution": {
     "iopub.execute_input": "2023-03-14T03:50:06.266872Z",
     "iopub.status.busy": "2023-03-14T03:50:06.265625Z",
     "iopub.status.idle": "2023-03-14T03:50:06.304204Z",
     "shell.execute_reply": "2023-03-14T03:50:06.303306Z"
    },
    "papermill": {
     "duration": 0.054801,
     "end_time": "2023-03-14T03:50:06.306956",
     "exception": false,
     "start_time": "2023-03-14T03:50:06.252155",
     "status": "completed"
    },
    "tags": []
   },
   "outputs": [
    {
     "data": {
      "text/html": [
       "<div>\n",
       "<style scoped>\n",
       "    .dataframe tbody tr th:only-of-type {\n",
       "        vertical-align: middle;\n",
       "    }\n",
       "\n",
       "    .dataframe tbody tr th {\n",
       "        vertical-align: top;\n",
       "    }\n",
       "\n",
       "    .dataframe thead th {\n",
       "        text-align: right;\n",
       "    }\n",
       "</style>\n",
       "<table border=\"1\" class=\"dataframe\">\n",
       "  <thead>\n",
       "    <tr style=\"text-align: right;\">\n",
       "      <th></th>\n",
       "      <th>count</th>\n",
       "      <th>unique</th>\n",
       "      <th>top</th>\n",
       "      <th>freq</th>\n",
       "      <th>mean</th>\n",
       "      <th>std</th>\n",
       "      <th>min</th>\n",
       "      <th>25%</th>\n",
       "      <th>50%</th>\n",
       "      <th>75%</th>\n",
       "      <th>max</th>\n",
       "    </tr>\n",
       "  </thead>\n",
       "  <tbody>\n",
       "    <tr>\n",
       "      <th>PassengerId</th>\n",
       "      <td>418.0</td>\n",
       "      <td>NaN</td>\n",
       "      <td>NaN</td>\n",
       "      <td>NaN</td>\n",
       "      <td>1100.5</td>\n",
       "      <td>120.810458</td>\n",
       "      <td>892.0</td>\n",
       "      <td>996.25</td>\n",
       "      <td>1100.5</td>\n",
       "      <td>1204.75</td>\n",
       "      <td>1309.0</td>\n",
       "    </tr>\n",
       "    <tr>\n",
       "      <th>Pclass</th>\n",
       "      <td>418.0</td>\n",
       "      <td>NaN</td>\n",
       "      <td>NaN</td>\n",
       "      <td>NaN</td>\n",
       "      <td>2.26555</td>\n",
       "      <td>0.841838</td>\n",
       "      <td>1.0</td>\n",
       "      <td>1.0</td>\n",
       "      <td>3.0</td>\n",
       "      <td>3.0</td>\n",
       "      <td>3.0</td>\n",
       "    </tr>\n",
       "    <tr>\n",
       "      <th>Name</th>\n",
       "      <td>418</td>\n",
       "      <td>418</td>\n",
       "      <td>Kelly, Mr. James</td>\n",
       "      <td>1</td>\n",
       "      <td>NaN</td>\n",
       "      <td>NaN</td>\n",
       "      <td>NaN</td>\n",
       "      <td>NaN</td>\n",
       "      <td>NaN</td>\n",
       "      <td>NaN</td>\n",
       "      <td>NaN</td>\n",
       "    </tr>\n",
       "    <tr>\n",
       "      <th>Sex</th>\n",
       "      <td>418</td>\n",
       "      <td>2</td>\n",
       "      <td>male</td>\n",
       "      <td>266</td>\n",
       "      <td>NaN</td>\n",
       "      <td>NaN</td>\n",
       "      <td>NaN</td>\n",
       "      <td>NaN</td>\n",
       "      <td>NaN</td>\n",
       "      <td>NaN</td>\n",
       "      <td>NaN</td>\n",
       "    </tr>\n",
       "    <tr>\n",
       "      <th>Age</th>\n",
       "      <td>332.0</td>\n",
       "      <td>NaN</td>\n",
       "      <td>NaN</td>\n",
       "      <td>NaN</td>\n",
       "      <td>30.27259</td>\n",
       "      <td>14.181209</td>\n",
       "      <td>0.17</td>\n",
       "      <td>21.0</td>\n",
       "      <td>27.0</td>\n",
       "      <td>39.0</td>\n",
       "      <td>76.0</td>\n",
       "    </tr>\n",
       "    <tr>\n",
       "      <th>SibSp</th>\n",
       "      <td>418.0</td>\n",
       "      <td>NaN</td>\n",
       "      <td>NaN</td>\n",
       "      <td>NaN</td>\n",
       "      <td>0.447368</td>\n",
       "      <td>0.89676</td>\n",
       "      <td>0.0</td>\n",
       "      <td>0.0</td>\n",
       "      <td>0.0</td>\n",
       "      <td>1.0</td>\n",
       "      <td>8.0</td>\n",
       "    </tr>\n",
       "    <tr>\n",
       "      <th>Parch</th>\n",
       "      <td>418.0</td>\n",
       "      <td>NaN</td>\n",
       "      <td>NaN</td>\n",
       "      <td>NaN</td>\n",
       "      <td>0.392344</td>\n",
       "      <td>0.981429</td>\n",
       "      <td>0.0</td>\n",
       "      <td>0.0</td>\n",
       "      <td>0.0</td>\n",
       "      <td>0.0</td>\n",
       "      <td>9.0</td>\n",
       "    </tr>\n",
       "    <tr>\n",
       "      <th>Ticket</th>\n",
       "      <td>418</td>\n",
       "      <td>363</td>\n",
       "      <td>PC 17608</td>\n",
       "      <td>5</td>\n",
       "      <td>NaN</td>\n",
       "      <td>NaN</td>\n",
       "      <td>NaN</td>\n",
       "      <td>NaN</td>\n",
       "      <td>NaN</td>\n",
       "      <td>NaN</td>\n",
       "      <td>NaN</td>\n",
       "    </tr>\n",
       "    <tr>\n",
       "      <th>Fare</th>\n",
       "      <td>417.0</td>\n",
       "      <td>NaN</td>\n",
       "      <td>NaN</td>\n",
       "      <td>NaN</td>\n",
       "      <td>35.627188</td>\n",
       "      <td>55.907576</td>\n",
       "      <td>0.0</td>\n",
       "      <td>7.8958</td>\n",
       "      <td>14.4542</td>\n",
       "      <td>31.5</td>\n",
       "      <td>512.3292</td>\n",
       "    </tr>\n",
       "    <tr>\n",
       "      <th>Cabin</th>\n",
       "      <td>91</td>\n",
       "      <td>76</td>\n",
       "      <td>B57 B59 B63 B66</td>\n",
       "      <td>3</td>\n",
       "      <td>NaN</td>\n",
       "      <td>NaN</td>\n",
       "      <td>NaN</td>\n",
       "      <td>NaN</td>\n",
       "      <td>NaN</td>\n",
       "      <td>NaN</td>\n",
       "      <td>NaN</td>\n",
       "    </tr>\n",
       "    <tr>\n",
       "      <th>Embarked</th>\n",
       "      <td>418</td>\n",
       "      <td>3</td>\n",
       "      <td>S</td>\n",
       "      <td>270</td>\n",
       "      <td>NaN</td>\n",
       "      <td>NaN</td>\n",
       "      <td>NaN</td>\n",
       "      <td>NaN</td>\n",
       "      <td>NaN</td>\n",
       "      <td>NaN</td>\n",
       "      <td>NaN</td>\n",
       "    </tr>\n",
       "  </tbody>\n",
       "</table>\n",
       "</div>"
      ],
      "text/plain": [
       "             count unique               top freq       mean         std  \\\n",
       "PassengerId  418.0    NaN               NaN  NaN     1100.5  120.810458   \n",
       "Pclass       418.0    NaN               NaN  NaN    2.26555    0.841838   \n",
       "Name           418    418  Kelly, Mr. James    1        NaN         NaN   \n",
       "Sex            418      2              male  266        NaN         NaN   \n",
       "Age          332.0    NaN               NaN  NaN   30.27259   14.181209   \n",
       "SibSp        418.0    NaN               NaN  NaN   0.447368     0.89676   \n",
       "Parch        418.0    NaN               NaN  NaN   0.392344    0.981429   \n",
       "Ticket         418    363          PC 17608    5        NaN         NaN   \n",
       "Fare         417.0    NaN               NaN  NaN  35.627188   55.907576   \n",
       "Cabin           91     76   B57 B59 B63 B66    3        NaN         NaN   \n",
       "Embarked       418      3                 S  270        NaN         NaN   \n",
       "\n",
       "               min     25%      50%      75%       max  \n",
       "PassengerId  892.0  996.25   1100.5  1204.75    1309.0  \n",
       "Pclass         1.0     1.0      3.0      3.0       3.0  \n",
       "Name           NaN     NaN      NaN      NaN       NaN  \n",
       "Sex            NaN     NaN      NaN      NaN       NaN  \n",
       "Age           0.17    21.0     27.0     39.0      76.0  \n",
       "SibSp          0.0     0.0      0.0      1.0       8.0  \n",
       "Parch          0.0     0.0      0.0      0.0       9.0  \n",
       "Ticket         NaN     NaN      NaN      NaN       NaN  \n",
       "Fare           0.0  7.8958  14.4542     31.5  512.3292  \n",
       "Cabin          NaN     NaN      NaN      NaN       NaN  \n",
       "Embarked       NaN     NaN      NaN      NaN       NaN  "
      ]
     },
     "execution_count": 14,
     "metadata": {},
     "output_type": "execute_result"
    }
   ],
   "source": [
    "#  check the statistical summary of the train data\n",
    "test.describe(include='all').T"
   ]
  },
  {
   "cell_type": "code",
   "execution_count": 15,
   "id": "ef5d6282",
   "metadata": {
    "execution": {
     "iopub.execute_input": "2023-03-14T03:50:06.334546Z",
     "iopub.status.busy": "2023-03-14T03:50:06.333428Z",
     "iopub.status.idle": "2023-03-14T03:50:06.573016Z",
     "shell.execute_reply": "2023-03-14T03:50:06.571745Z"
    },
    "papermill": {
     "duration": 0.255985,
     "end_time": "2023-03-14T03:50:06.575553",
     "exception": false,
     "start_time": "2023-03-14T03:50:06.319568",
     "status": "completed"
    },
    "tags": []
   },
   "outputs": [
    {
     "data": {
      "image/png": "[encoded data removed]",
      "text/plain": [
       "<Figure size 640x480 with 1 Axes>"
      ]
     },
     "metadata": {},
     "output_type": "display_data"
    }
   ],
   "source": [
    "ax = sns.countplot(x='Survived',data=train)\n",
    "for p in ax.patches:\n",
    "    ax.annotate('{:.0f}'.format(p.get_height()), (p.get_x()+0.4, p.get_height()+5), ha='center', va='bottom', fontsize=8)"
   ]
  },
  {
   "cell_type": "code",
   "execution_count": 16,
   "id": "bf6a19ef",
   "metadata": {
    "execution": {
     "iopub.execute_input": "2023-03-14T03:50:06.603697Z",
     "iopub.status.busy": "2023-03-14T03:50:06.602502Z",
     "iopub.status.idle": "2023-03-14T03:50:06.851361Z",
     "shell.execute_reply": "2023-03-14T03:50:06.850478Z"
    },
    "papermill": {
     "duration": 0.265364,
     "end_time": "2023-03-14T03:50:06.853696",
     "exception": false,
     "start_time": "2023-03-14T03:50:06.588332",
     "status": "completed"
    },
    "tags": []
   },
   "outputs": [
    {
     "data": {
      "text/plain": [
       "<AxesSubplot:xlabel='Survived', ylabel='count'>"
      ]
     },
     "execution_count": 16,
     "metadata": {},
     "output_type": "execute_result"
    },
    {
     "data": {
      "image/png": "[encoded data removed]",
      "text/plain": [
       "<Figure size 640x480 with 1 Axes>"
      ]
     },
     "metadata": {},
     "output_type": "display_data"
    }
   ],
   "source": [
    "sns.countplot(x='Survived',hue='Pclass',data=train)"
   ]
  },
  {
   "cell_type": "code",
   "execution_count": 17,
   "id": "f5209a3d",
   "metadata": {
    "execution": {
     "iopub.execute_input": "2023-03-14T03:50:06.883509Z",
     "iopub.status.busy": "2023-03-14T03:50:06.882277Z",
     "iopub.status.idle": "2023-03-14T03:50:07.108787Z",
     "shell.execute_reply": "2023-03-14T03:50:07.107776Z"
    },
    "papermill": {
     "duration": 0.243908,
     "end_time": "2023-03-14T03:50:07.111351",
     "exception": false,
     "start_time": "2023-03-14T03:50:06.867443",
     "status": "completed"
    },
    "tags": []
   },
   "outputs": [
    {
     "data": {
      "text/plain": [
       "<AxesSubplot:xlabel='Survived', ylabel='count'>"
      ]
     },
     "execution_count": 17,
     "metadata": {},
     "output_type": "execute_result"
    },
    {
     "data": {
      "image/png": "[encoded data removed]",
      "text/plain": [
       "<Figure size 640x480 with 1 Axes>"
      ]
     },
     "metadata": {},
     "output_type": "display_data"
    }
   ],
   "source": [
    "sns.countplot(x='Survived',hue='Sex',data=train)"
   ]
  },
  {
   "cell_type": "code",
   "execution_count": 18,
   "id": "7ae5c2cf",
   "metadata": {
    "execution": {
     "iopub.execute_input": "2023-03-14T03:50:07.140606Z",
     "iopub.status.busy": "2023-03-14T03:50:07.139911Z",
     "iopub.status.idle": "2023-03-14T03:50:07.365921Z",
     "shell.execute_reply": "2023-03-14T03:50:07.364936Z"
    },
    "papermill": {
     "duration": 0.243482,
     "end_time": "2023-03-14T03:50:07.368396",
     "exception": false,
     "start_time": "2023-03-14T03:50:07.124914",
     "status": "completed"
    },
    "tags": []
   },
   "outputs": [
    {
     "data": {
      "text/plain": [
       "<AxesSubplot:xlabel='Survived', ylabel='Age'>"
      ]
     },
     "execution_count": 18,
     "metadata": {},
     "output_type": "execute_result"
    },
    {
     "data": {
      "image/png": "[encoded data removed]",
      "text/plain": [
       "<Figure size 640x480 with 1 Axes>"
      ]
     },
     "metadata": {},
     "output_type": "display_data"
    }
   ],
   "source": [
    "sns.boxplot(x='Survived',y='Age',data=train)"
   ]
  },
  {
   "cell_type": "code",
   "execution_count": 19,
   "id": "6a0426fb",
   "metadata": {
    "execution": {
     "iopub.execute_input": "2023-03-14T03:50:07.398433Z",
     "iopub.status.busy": "2023-03-14T03:50:07.397771Z",
     "iopub.status.idle": "2023-03-14T03:50:07.613103Z",
     "shell.execute_reply": "2023-03-14T03:50:07.611849Z"
    },
    "papermill": {
     "duration": 0.233287,
     "end_time": "2023-03-14T03:50:07.615656",
     "exception": false,
     "start_time": "2023-03-14T03:50:07.382369",
     "status": "completed"
    },
    "tags": []
   },
   "outputs": [
    {
     "data": {
      "text/plain": [
       "<AxesSubplot:xlabel='Survived', ylabel='Fare'>"
      ]
     },
     "execution_count": 19,
     "metadata": {},
     "output_type": "execute_result"
    },
    {
     "data": {
      "image/png": "[encoded data removed]",
      "text/plain": [
       "<Figure size 640x480 with 1 Axes>"
      ]
     },
     "metadata": {},
     "output_type": "display_data"
    }
   ],
   "source": [
    "sns.boxplot(x='Survived',y='Fare',data=train)"
   ]
  },
  {
   "cell_type": "markdown",
   "id": "118f01a9",
   "metadata": {
    "papermill": {
     "duration": 0.013826,
     "end_time": "2023-03-14T03:50:07.643763",
     "exception": false,
     "start_time": "2023-03-14T03:50:07.629937",
     "status": "completed"
    },
    "tags": []
   },
   "source": [
    "# Feature Engineering"
   ]
  },
  {
   "cell_type": "code",
   "execution_count": 20,
   "id": "a18f74d4",
   "metadata": {
    "execution": {
     "iopub.execute_input": "2023-03-14T03:50:07.674935Z",
     "iopub.status.busy": "2023-03-14T03:50:07.673900Z",
     "iopub.status.idle": "2023-03-14T03:50:07.685156Z",
     "shell.execute_reply": "2023-03-14T03:50:07.683804Z"
    },
    "papermill": {
     "duration": 0.030161,
     "end_time": "2023-03-14T03:50:07.688075",
     "exception": false,
     "start_time": "2023-03-14T03:50:07.657914",
     "status": "completed"
    },
    "tags": []
   },
   "outputs": [],
   "source": [
    "# fill mising values in train and test data\n",
    "train['Age'].fillna(train['Age'].median(), inplace=True)\n",
    "train['Cabin'].fillna(train['Cabin'].mode()[0], inplace=True)\n",
    "train['Embarked'].fillna(train['Embarked'].mode()[0], inplace=True)"
   ]
  },
  {
   "cell_type": "code",
   "execution_count": 21,
   "id": "00aab275",
   "metadata": {
    "execution": {
     "iopub.execute_input": "2023-03-14T03:50:07.718856Z",
     "iopub.status.busy": "2023-03-14T03:50:07.718404Z",
     "iopub.status.idle": "2023-03-14T03:50:07.727831Z",
     "shell.execute_reply": "2023-03-14T03:50:07.726649Z"
    },
    "papermill": {
     "duration": 0.027649,
     "end_time": "2023-03-14T03:50:07.730444",
     "exception": false,
     "start_time": "2023-03-14T03:50:07.702795",
     "status": "completed"
    },
    "tags": []
   },
   "outputs": [],
   "source": [
    "test['Age'].fillna(test['Age'].median(), inplace=True)\n",
    "test['Fare'].fillna(test['Fare'].median(), inplace=True)\n",
    "test['Cabin'].fillna(test['Cabin'].mode()[0], inplace=True)"
   ]
  },
  {
   "cell_type": "code",
   "execution_count": 22,
   "id": "83cf2cab",
   "metadata": {
    "execution": {
     "iopub.execute_input": "2023-03-14T03:50:07.761922Z",
     "iopub.status.busy": "2023-03-14T03:50:07.760727Z",
     "iopub.status.idle": "2023-03-14T03:50:07.771291Z",
     "shell.execute_reply": "2023-03-14T03:50:07.770252Z"
    },
    "papermill": {
     "duration": 0.028825,
     "end_time": "2023-03-14T03:50:07.773910",
     "exception": false,
     "start_time": "2023-03-14T03:50:07.745085",
     "status": "completed"
    },
    "tags": []
   },
   "outputs": [
    {
     "data": {
      "text/plain": [
       "PassengerId    0\n",
       "Survived       0\n",
       "Pclass         0\n",
       "Name           0\n",
       "Sex            0\n",
       "Age            0\n",
       "SibSp          0\n",
       "Parch          0\n",
       "Ticket         0\n",
       "Fare           0\n",
       "Cabin          0\n",
       "Embarked       0\n",
       "dtype: int64"
      ]
     },
     "execution_count": 22,
     "metadata": {},
     "output_type": "execute_result"
    }
   ],
   "source": [
    "train.isnull().sum()"
   ]
  },
  {
   "cell_type": "code",
   "execution_count": 23,
   "id": "e94c4c4b",
   "metadata": {
    "execution": {
     "iopub.execute_input": "2023-03-14T03:50:07.805341Z",
     "iopub.status.busy": "2023-03-14T03:50:07.804530Z",
     "iopub.status.idle": "2023-03-14T03:50:07.814146Z",
     "shell.execute_reply": "2023-03-14T03:50:07.813330Z"
    },
    "papermill": {
     "duration": 0.027401,
     "end_time": "2023-03-14T03:50:07.816216",
     "exception": false,
     "start_time": "2023-03-14T03:50:07.788815",
     "status": "completed"
    },
    "tags": []
   },
   "outputs": [
    {
     "data": {
      "text/plain": [
       "PassengerId    0\n",
       "Pclass         0\n",
       "Name           0\n",
       "Sex            0\n",
       "Age            0\n",
       "SibSp          0\n",
       "Parch          0\n",
       "Ticket         0\n",
       "Fare           0\n",
       "Cabin          0\n",
       "Embarked       0\n",
       "dtype: int64"
      ]
     },
     "execution_count": 23,
     "metadata": {},
     "output_type": "execute_result"
    }
   ],
   "source": [
    "test.isnull().sum()"
   ]
  },
  {
   "cell_type": "code",
   "execution_count": 24,
   "id": "6cb6dd7b",
   "metadata": {
    "execution": {
     "iopub.execute_input": "2023-03-14T03:50:07.848850Z",
     "iopub.status.busy": "2023-03-14T03:50:07.848404Z",
     "iopub.status.idle": "2023-03-14T03:50:07.857429Z",
     "shell.execute_reply": "2023-03-14T03:50:07.856202Z"
    },
    "papermill": {
     "duration": 0.028651,
     "end_time": "2023-03-14T03:50:07.860183",
     "exception": false,
     "start_time": "2023-03-14T03:50:07.831532",
     "status": "completed"
    },
    "tags": []
   },
   "outputs": [],
   "source": [
    "# drop values that are not relevant for predication\n",
    "train=train.drop(['PassengerId','Name','Ticket','Cabin','Parch'], axis=1)\n",
    "test=test.drop(['PassengerId','Name','Ticket','Cabin','Parch'], axis=1)"
   ]
  },
  {
   "cell_type": "code",
   "execution_count": 25,
   "id": "980c89df",
   "metadata": {
    "execution": {
     "iopub.execute_input": "2023-03-14T03:50:07.891165Z",
     "iopub.status.busy": "2023-03-14T03:50:07.890738Z",
     "iopub.status.idle": "2023-03-14T03:50:08.652369Z",
     "shell.execute_reply": "2023-03-14T03:50:08.651002Z"
    },
    "papermill": {
     "duration": 0.780527,
     "end_time": "2023-03-14T03:50:08.655288",
     "exception": false,
     "start_time": "2023-03-14T03:50:07.874761",
     "status": "completed"
    },
    "tags": []
   },
   "outputs": [
    {
     "data": {
      "image/png": "[encoded data removed]",
      "text/plain": [
       "<Figure size 1500x1200 with 5 Axes>"
      ]
     },
     "metadata": {},
     "output_type": "display_data"
    }
   ],
   "source": [
    "# outlier detection using boxplot\n",
    "numeric_columns = train.select_dtypes(include=np.number).columns.tolist()\n",
    "\n",
    "plt.figure(figsize=(15, 12))\n",
    "\n",
    "for i, variable in enumerate(numeric_columns):\n",
    "    plt.subplot(4, 4, i + 1)\n",
    "    plt.boxplot(train[variable], whis=1.5, patch_artist='blue')\n",
    "    plt.tight_layout()\n",
    "    plt.title(variable)\n",
    "\n",
    "plt.show()"
   ]
  },
  {
   "cell_type": "code",
   "execution_count": 26,
   "id": "d57112d1",
   "metadata": {
    "execution": {
     "iopub.execute_input": "2023-03-14T03:50:08.688795Z",
     "iopub.status.busy": "2023-03-14T03:50:08.688325Z",
     "iopub.status.idle": "2023-03-14T03:50:09.418739Z",
     "shell.execute_reply": "2023-03-14T03:50:09.417491Z"
    },
    "papermill": {
     "duration": 0.749841,
     "end_time": "2023-03-14T03:50:09.421284",
     "exception": false,
     "start_time": "2023-03-14T03:50:08.671443",
     "status": "completed"
    },
    "tags": []
   },
   "outputs": [
    {
     "data": {
      "image/png": "[encoded data removed]",
      "text/plain": [
       "<Figure size 1500x1200 with 4 Axes>"
      ]
     },
     "metadata": {},
     "output_type": "display_data"
    }
   ],
   "source": [
    "# outlier detection using boxplot\n",
    "numeric_columns = test.select_dtypes(include=np.number).columns.tolist()\n",
    "\n",
    "plt.figure(figsize=(15, 12))\n",
    "\n",
    "for i, variable in enumerate(numeric_columns):\n",
    "    plt.subplot(4, 4, i + 1)\n",
    "    plt.boxplot(test[variable], whis=1.5, patch_artist='blue')\n",
    "    plt.tight_layout()\n",
    "    plt.title(variable)\n",
    "\n",
    "plt.show()"
   ]
  },
  {
   "cell_type": "code",
   "execution_count": 27,
   "id": "9596d176",
   "metadata": {
    "execution": {
     "iopub.execute_input": "2023-03-14T03:50:09.456241Z",
     "iopub.status.busy": "2023-03-14T03:50:09.455819Z",
     "iopub.status.idle": "2023-03-14T03:50:09.473390Z",
     "shell.execute_reply": "2023-03-14T03:50:09.472125Z"
    },
    "papermill": {
     "duration": 0.03876,
     "end_time": "2023-03-14T03:50:09.476364",
     "exception": false,
     "start_time": "2023-03-14T03:50:09.437604",
     "status": "completed"
    },
    "tags": []
   },
   "outputs": [],
   "source": [
    "cols= ['Age', 'SibSp', 'Fare']\n",
    "\n",
    "train[cols]= train[cols].clip(lower= train[cols].quantile(0.15), upper= train[cols].quantile(0.85), axis=1)"
   ]
  },
  {
   "cell_type": "code",
   "execution_count": 28,
   "id": "1825308e",
   "metadata": {
    "execution": {
     "iopub.execute_input": "2023-03-14T03:50:09.510702Z",
     "iopub.status.busy": "2023-03-14T03:50:09.510255Z",
     "iopub.status.idle": "2023-03-14T03:50:09.527186Z",
     "shell.execute_reply": "2023-03-14T03:50:09.525901Z"
    },
    "papermill": {
     "duration": 0.037245,
     "end_time": "2023-03-14T03:50:09.529820",
     "exception": false,
     "start_time": "2023-03-14T03:50:09.492575",
     "status": "completed"
    },
    "tags": []
   },
   "outputs": [],
   "source": [
    "cols= ['Age', 'SibSp', 'Fare']\n",
    "\n",
    "test[cols]= test[cols].clip(lower= test[cols].quantile(0.15), upper= test[cols].quantile(0.85), axis=1)"
   ]
  },
  {
   "cell_type": "code",
   "execution_count": 29,
   "id": "1f1e1454",
   "metadata": {
    "execution": {
     "iopub.execute_input": "2023-03-14T03:50:09.563150Z",
     "iopub.status.busy": "2023-03-14T03:50:09.562728Z",
     "iopub.status.idle": "2023-03-14T03:50:10.262782Z",
     "shell.execute_reply": "2023-03-14T03:50:10.261490Z"
    },
    "papermill": {
     "duration": 0.720205,
     "end_time": "2023-03-14T03:50:10.265787",
     "exception": false,
     "start_time": "2023-03-14T03:50:09.545582",
     "status": "completed"
    },
    "tags": []
   },
   "outputs": [
    {
     "data": {
      "image/png": "[encoded data removed]",
      "text/plain": [
       "<Figure size 1500x1200 with 5 Axes>"
      ]
     },
     "metadata": {},
     "output_type": "display_data"
    }
   ],
   "source": [
    "# outlier detection using boxplot\n",
    "numeric_columns = train.select_dtypes(include=np.number).columns.tolist()\n",
    "\n",
    "plt.figure(figsize=(15, 12))\n",
    "\n",
    "for i, variable in enumerate(numeric_columns):\n",
    "    plt.subplot(4, 4, i + 1)\n",
    "    plt.boxplot(train[variable], whis=1.5, patch_artist='blue')\n",
    "    plt.tight_layout()\n",
    "    plt.title(variable)\n",
    "\n",
    "plt.show()"
   ]
  },
  {
   "cell_type": "code",
   "execution_count": 30,
   "id": "40a23e6a",
   "metadata": {
    "execution": {
     "iopub.execute_input": "2023-03-14T03:50:10.301879Z",
     "iopub.status.busy": "2023-03-14T03:50:10.301396Z",
     "iopub.status.idle": "2023-03-14T03:50:10.857830Z",
     "shell.execute_reply": "2023-03-14T03:50:10.856582Z"
    },
    "papermill": {
     "duration": 0.577567,
     "end_time": "2023-03-14T03:50:10.860568",
     "exception": false,
     "start_time": "2023-03-14T03:50:10.283001",
     "status": "completed"
    },
    "tags": []
   },
   "outputs": [
    {
     "data": {
      "image/png": "[encoded data removed]",
      "text/plain": [
       "<Figure size 1500x1200 with 4 Axes>"
      ]
     },
     "metadata": {},
     "output_type": "display_data"
    }
   ],
   "source": [
    "# outlier detection using boxplot\n",
    "numeric_columns = test.select_dtypes(include=np.number).columns.tolist()\n",
    "\n",
    "plt.figure(figsize=(15, 12))\n",
    "\n",
    "for i, variable in enumerate(numeric_columns):\n",
    "    plt.subplot(4, 4, i + 1)\n",
    "    plt.boxplot(test[variable], whis=1.5, patch_artist='blue')\n",
    "    plt.tight_layout()\n",
    "    plt.title(variable)\n",
    "\n",
    "plt.show()"
   ]
  },
  {
   "cell_type": "code",
   "execution_count": 31,
   "id": "c2de94b3",
   "metadata": {
    "execution": {
     "iopub.execute_input": "2023-03-14T03:50:10.896908Z",
     "iopub.status.busy": "2023-03-14T03:50:10.896436Z",
     "iopub.status.idle": "2023-03-14T03:50:10.920612Z",
     "shell.execute_reply": "2023-03-14T03:50:10.918889Z"
    },
    "papermill": {
     "duration": 0.044978,
     "end_time": "2023-03-14T03:50:10.923033",
     "exception": false,
     "start_time": "2023-03-14T03:50:10.878055",
     "status": "completed"
    },
    "tags": []
   },
   "outputs": [
    {
     "name": "stdout",
     "output_type": "stream",
     "text": [
      "<class 'pandas.core.frame.DataFrame'>\n",
      "RangeIndex: 891 entries, 0 to 890\n",
      "Data columns (total 7 columns):\n",
      " #   Column    Non-Null Count  Dtype  \n",
      "---  ------    --------------  -----  \n",
      " 0   Survived  891 non-null    int64  \n",
      " 1   Pclass    891 non-null    int64  \n",
      " 2   Sex       891 non-null    object \n",
      " 3   Age       891 non-null    float64\n",
      " 4   SibSp     891 non-null    int64  \n",
      " 5   Fare      891 non-null    float64\n",
      " 6   Embarked  891 non-null    object \n",
      "dtypes: float64(2), int64(3), object(2)\n",
      "memory usage: 48.9+ KB\n",
      "<class 'pandas.core.frame.DataFrame'>\n",
      "RangeIndex: 418 entries, 0 to 417\n",
      "Data columns (total 6 columns):\n",
      " #   Column    Non-Null Count  Dtype  \n",
      "---  ------    --------------  -----  \n",
      " 0   Pclass    418 non-null    int64  \n",
      " 1   Sex       418 non-null    object \n",
      " 2   Age       418 non-null    float64\n",
      " 3   SibSp     418 non-null    int64  \n",
      " 4   Fare      418 non-null    float64\n",
      " 5   Embarked  418 non-null    object \n",
      "dtypes: float64(2), int64(2), object(2)\n",
      "memory usage: 19.7+ KB\n"
     ]
    },
    {
     "data": {
      "text/plain": [
       "(None, None)"
      ]
     },
     "execution_count": 31,
     "metadata": {},
     "output_type": "execute_result"
    }
   ],
   "source": [
    "train.info() , test.info()"
   ]
  },
  {
   "cell_type": "code",
   "execution_count": 32,
   "id": "3b720dae",
   "metadata": {
    "execution": {
     "iopub.execute_input": "2023-03-14T03:50:10.959753Z",
     "iopub.status.busy": "2023-03-14T03:50:10.958382Z",
     "iopub.status.idle": "2023-03-14T03:50:10.971844Z",
     "shell.execute_reply": "2023-03-14T03:50:10.970566Z"
    },
    "papermill": {
     "duration": 0.03454,
     "end_time": "2023-03-14T03:50:10.974622",
     "exception": false,
     "start_time": "2023-03-14T03:50:10.940082",
     "status": "completed"
    },
    "tags": []
   },
   "outputs": [],
   "source": [
    "# create dummies on train data and test data\n",
    "train = pd.get_dummies(\n",
    "    train,\n",
    "    columns=train.select_dtypes(include=[\"object\", \"category\"]).columns.tolist(),\n",
    "    drop_first=True,\n",
    ")"
   ]
  },
  {
   "cell_type": "code",
   "execution_count": 33,
   "id": "3489c57e",
   "metadata": {
    "execution": {
     "iopub.execute_input": "2023-03-14T03:50:11.011468Z",
     "iopub.status.busy": "2023-03-14T03:50:11.010463Z",
     "iopub.status.idle": "2023-03-14T03:50:11.021644Z",
     "shell.execute_reply": "2023-03-14T03:50:11.020445Z"
    },
    "papermill": {
     "duration": 0.032187,
     "end_time": "2023-03-14T03:50:11.023973",
     "exception": false,
     "start_time": "2023-03-14T03:50:10.991786",
     "status": "completed"
    },
    "tags": []
   },
   "outputs": [],
   "source": [
    "test = pd.get_dummies(\n",
    "    test,\n",
    "    columns=test.select_dtypes(include=[\"object\", \"category\"]).columns.tolist(),\n",
    "    drop_first=True,\n",
    ")"
   ]
  },
  {
   "cell_type": "code",
   "execution_count": 34,
   "id": "82a837fc",
   "metadata": {
    "execution": {
     "iopub.execute_input": "2023-03-14T03:50:11.060433Z",
     "iopub.status.busy": "2023-03-14T03:50:11.059361Z",
     "iopub.status.idle": "2023-03-14T03:50:11.075432Z",
     "shell.execute_reply": "2023-03-14T03:50:11.073582Z"
    },
    "papermill": {
     "duration": 0.037227,
     "end_time": "2023-03-14T03:50:11.078176",
     "exception": false,
     "start_time": "2023-03-14T03:50:11.040949",
     "status": "completed"
    },
    "tags": []
   },
   "outputs": [
    {
     "name": "stdout",
     "output_type": "stream",
     "text": [
      "<class 'pandas.core.frame.DataFrame'>\n",
      "RangeIndex: 891 entries, 0 to 890\n",
      "Data columns (total 8 columns):\n",
      " #   Column      Non-Null Count  Dtype  \n",
      "---  ------      --------------  -----  \n",
      " 0   Survived    891 non-null    int64  \n",
      " 1   Pclass      891 non-null    int64  \n",
      " 2   Age         891 non-null    float64\n",
      " 3   SibSp       891 non-null    int64  \n",
      " 4   Fare        891 non-null    float64\n",
      " 5   Sex_male    891 non-null    uint8  \n",
      " 6   Embarked_Q  891 non-null    uint8  \n",
      " 7   Embarked_S  891 non-null    uint8  \n",
      "dtypes: float64(2), int64(3), uint8(3)\n",
      "memory usage: 37.5 KB\n"
     ]
    }
   ],
   "source": [
    "train.info()"
   ]
  },
  {
   "cell_type": "code",
   "execution_count": 35,
   "id": "5e91b523",
   "metadata": {
    "execution": {
     "iopub.execute_input": "2023-03-14T03:50:11.114806Z",
     "iopub.status.busy": "2023-03-14T03:50:11.113987Z",
     "iopub.status.idle": "2023-03-14T03:50:11.127801Z",
     "shell.execute_reply": "2023-03-14T03:50:11.125735Z"
    },
    "papermill": {
     "duration": 0.035226,
     "end_time": "2023-03-14T03:50:11.130442",
     "exception": false,
     "start_time": "2023-03-14T03:50:11.095216",
     "status": "completed"
    },
    "tags": []
   },
   "outputs": [
    {
     "name": "stdout",
     "output_type": "stream",
     "text": [
      "<class 'pandas.core.frame.DataFrame'>\n",
      "RangeIndex: 418 entries, 0 to 417\n",
      "Data columns (total 7 columns):\n",
      " #   Column      Non-Null Count  Dtype  \n",
      "---  ------      --------------  -----  \n",
      " 0   Pclass      418 non-null    int64  \n",
      " 1   Age         418 non-null    float64\n",
      " 2   SibSp       418 non-null    int64  \n",
      " 3   Fare        418 non-null    float64\n",
      " 4   Sex_male    418 non-null    uint8  \n",
      " 5   Embarked_Q  418 non-null    uint8  \n",
      " 6   Embarked_S  418 non-null    uint8  \n",
      "dtypes: float64(2), int64(2), uint8(3)\n",
      "memory usage: 14.4 KB\n"
     ]
    }
   ],
   "source": [
    "test.info()"
   ]
  },
  {
   "cell_type": "code",
   "execution_count": 36,
   "id": "82f19d3b",
   "metadata": {
    "execution": {
     "iopub.execute_input": "2023-03-14T03:50:11.167297Z",
     "iopub.status.busy": "2023-03-14T03:50:11.166560Z",
     "iopub.status.idle": "2023-03-14T03:50:11.173305Z",
     "shell.execute_reply": "2023-03-14T03:50:11.172450Z"
    },
    "papermill": {
     "duration": 0.027985,
     "end_time": "2023-03-14T03:50:11.175571",
     "exception": false,
     "start_time": "2023-03-14T03:50:11.147586",
     "status": "completed"
    },
    "tags": []
   },
   "outputs": [],
   "source": [
    "# Separating features and the target column\n",
    "X_train = train.drop(\"Survived\", axis=1) \n",
    "y_train = train[\"Survived\"]\n",
    "\n",
    "X_test = test.copy()"
   ]
  },
  {
   "cell_type": "code",
   "execution_count": 37,
   "id": "47e407e1",
   "metadata": {
    "execution": {
     "iopub.execute_input": "2023-03-14T03:50:11.212226Z",
     "iopub.status.busy": "2023-03-14T03:50:11.211560Z",
     "iopub.status.idle": "2023-03-14T03:50:11.217556Z",
     "shell.execute_reply": "2023-03-14T03:50:11.216706Z"
    },
    "papermill": {
     "duration": 0.026949,
     "end_time": "2023-03-14T03:50:11.219701",
     "exception": false,
     "start_time": "2023-03-14T03:50:11.192752",
     "status": "completed"
    },
    "tags": []
   },
   "outputs": [
    {
     "data": {
      "text/plain": [
       "((891, 7), (418, 7))"
      ]
     },
     "execution_count": 37,
     "metadata": {},
     "output_type": "execute_result"
    }
   ],
   "source": [
    "X_train.shape,X_test.shape"
   ]
  },
  {
   "cell_type": "code",
   "execution_count": 38,
   "id": "101b3545",
   "metadata": {
    "execution": {
     "iopub.execute_input": "2023-03-14T03:50:11.256786Z",
     "iopub.status.busy": "2023-03-14T03:50:11.256041Z",
     "iopub.status.idle": "2023-03-14T03:50:11.304516Z",
     "shell.execute_reply": "2023-03-14T03:50:11.303007Z"
    },
    "papermill": {
     "duration": 0.071315,
     "end_time": "2023-03-14T03:50:11.308363",
     "exception": false,
     "start_time": "2023-03-14T03:50:11.237048",
     "status": "completed"
    },
    "tags": []
   },
   "outputs": [],
   "source": [
    "# Create a logistic regression object and fit the model to the train data\n",
    "logreg = LogisticRegression()\n",
    "logreg.fit(X_train, y_train)\n",
    "\n",
    "# Use the model to make predictions on the test data\n",
    "y_pred = logreg.predict(X_test)"
   ]
  },
  {
   "cell_type": "code",
   "execution_count": 39,
   "id": "60ca3e9b",
   "metadata": {
    "execution": {
     "iopub.execute_input": "2023-03-14T03:50:11.347076Z",
     "iopub.status.busy": "2023-03-14T03:50:11.346524Z",
     "iopub.status.idle": "2023-03-14T03:50:11.356083Z",
     "shell.execute_reply": "2023-03-14T03:50:11.354710Z"
    },
    "papermill": {
     "duration": 0.030647,
     "end_time": "2023-03-14T03:50:11.358161",
     "exception": false,
     "start_time": "2023-03-14T03:50:11.327514",
     "status": "completed"
    },
    "tags": []
   },
   "outputs": [
    {
     "name": "stdout",
     "output_type": "stream",
     "text": [
      "0.7890011223344556\n"
     ]
    }
   ],
   "source": [
    "print(logreg.score(X_train, y_train))"
   ]
  },
  {
   "cell_type": "code",
   "execution_count": 40,
   "id": "ba596b76",
   "metadata": {
    "execution": {
     "iopub.execute_input": "2023-03-14T03:50:11.396869Z",
     "iopub.status.busy": "2023-03-14T03:50:11.395603Z",
     "iopub.status.idle": "2023-03-14T03:50:11.405532Z",
     "shell.execute_reply": "2023-03-14T03:50:11.403955Z"
    },
    "papermill": {
     "duration": 0.031843,
     "end_time": "2023-03-14T03:50:11.408203",
     "exception": false,
     "start_time": "2023-03-14T03:50:11.376360",
     "status": "completed"
    },
    "tags": []
   },
   "outputs": [
    {
     "name": "stdout",
     "output_type": "stream",
     "text": [
      "   PassengerId  Survived\n",
      "0          892         0\n",
      "1          893         0\n",
      "2          894         0\n",
      "3          895         0\n",
      "4          896         1\n"
     ]
    }
   ],
   "source": [
    "submission= pd.DataFrame({'PassengerId' : test_data['PassengerId'], 'Survived': y_pred })\n",
    "\n",
    "print(submission.head())"
   ]
  },
  {
   "cell_type": "code",
   "execution_count": 41,
   "id": "2842d42b",
   "metadata": {
    "execution": {
     "iopub.execute_input": "2023-03-14T03:50:11.446102Z",
     "iopub.status.busy": "2023-03-14T03:50:11.444861Z",
     "iopub.status.idle": "2023-03-14T03:50:11.452708Z",
     "shell.execute_reply": "2023-03-14T03:50:11.451317Z"
    },
    "papermill": {
     "duration": 0.029023,
     "end_time": "2023-03-14T03:50:11.454867",
     "exception": false,
     "start_time": "2023-03-14T03:50:11.425844",
     "status": "completed"
    },
    "tags": []
   },
   "outputs": [
    {
     "data": {
      "text/plain": [
       "(418, 2)"
      ]
     },
     "execution_count": 41,
     "metadata": {},
     "output_type": "execute_result"
    }
   ],
   "source": [
    "submission.shape"
   ]
  },
  {
   "cell_type": "markdown",
   "id": "cad3fa75",
   "metadata": {
    "papermill": {
     "duration": 0.017448,
     "end_time": "2023-03-14T03:50:11.489859",
     "exception": false,
     "start_time": "2023-03-14T03:50:11.472411",
     "status": "completed"
    },
    "tags": []
   },
   "source": [
    "### This model accuracy is 78%. We can improve the accuracy by applying other models to the data.As this is my first project just used logistic regression. "
   ]
  },
  {
   "cell_type": "code",
   "execution_count": 42,
   "id": "b7c6c447",
   "metadata": {
    "execution": {
     "iopub.execute_input": "2023-03-14T03:50:11.527135Z",
     "iopub.status.busy": "2023-03-14T03:50:11.526682Z",
     "iopub.status.idle": "2023-03-14T03:50:11.538170Z",
     "shell.execute_reply": "2023-03-14T03:50:11.537175Z"
    },
    "papermill": {
     "duration": 0.033305,
     "end_time": "2023-03-14T03:50:11.540564",
     "exception": false,
     "start_time": "2023-03-14T03:50:11.507259",
     "status": "completed"
    },
    "tags": []
   },
   "outputs": [],
   "source": [
    "submission.to_csv('submission.csv')"
   ]
  }
 ],
 "metadata": {
  "kernelspec": {
   "display_name": "Python 3",
   "language": "python",
   "name": "python3"
  },
  "language_info": {
   "codemirror_mode": {
    "name": "ipython",
    "version": 3
   },
   "file_extension": ".py",
   "mimetype": "text/x-python",
   "name": "python",
   "nbconvert_exporter": "python",
   "pygments_lexer": "ipython3",
   "version": "3.7.12"
  },
  "papermill": {
   "default_parameters": {},
   "duration": 18.828981,
   "end_time": "2023-03-14T03:50:12.381222",
   "environment_variables": {},
   "exception": null,
   "input_path": "__notebook__.ipynb",
   "output_path": "__notebook__.ipynb",
   "parameters": {},
   "start_time": "2023-03-14T03:49:53.552241",
   "version": "2.4.0"
  }
 },
 "nbformat": 4,
 "nbformat_minor": 5
}
